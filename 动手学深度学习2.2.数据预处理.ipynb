{
 "cells": [
  {
   "cell_type": "code",
   "id": "initial_id",
   "metadata": {
    "collapsed": true,
    "ExecuteTime": {
     "end_time": "2025-07-01T07:39:58.514391Z",
     "start_time": "2025-07-01T07:39:58.507709Z"
    }
   },
   "source": [
    "import os\n",
    "\n",
    "# 在当前目录创建data文件夹\n",
    "os.makedirs('data', exist_ok=True)\n",
    "# 在data文件夹中创建CSV文件\n",
    "data_file = os.path.join('data', 'house_tiny.csv')\n",
    "print(f'拼接结果: {data_file}')\n",
    "\n",
    "with open(data_file, 'w') as f:\n",
    "    f.write('NumRooms,Alley,Price\\n')  # 列名\n",
    "    f.write('NA,Pave,127500\\n')  # 每行表示一个数据样本\n",
    "    f.write('2,NA,106000\\n')\n",
    "    f.write('4,NA,178100\\n')\n",
    "    f.write('NA,NA,140000\\n')\n"
   ],
   "outputs": [
    {
     "name": "stdout",
     "output_type": "stream",
     "text": [
      "拼接结果: data/house_tiny.csv\n"
     ]
    }
   ],
   "execution_count": 7
  },
  {
   "cell_type": "code",
   "id": "27660856426f4130",
   "metadata": {
    "ExecuteTime": {
     "end_time": "2025-07-01T07:39:58.543538Z",
     "start_time": "2025-07-01T07:39:58.538979Z"
    }
   },
   "source": [
    "import pandas as pd\n",
    "\n",
    "data = pd.read_csv(data_file)\n",
    "print(data)"
   ],
   "outputs": [
    {
     "name": "stdout",
     "output_type": "stream",
     "text": [
      "   NumRooms Alley   Price\n",
      "0       NaN  Pave  127500\n",
      "1       2.0   NaN  106000\n",
      "2       4.0   NaN  178100\n",
      "3       NaN   NaN  140000\n"
     ]
    }
   ],
   "execution_count": 8
  },
  {
   "cell_type": "code",
   "id": "198f2c5a6266fb3d",
   "metadata": {
    "ExecuteTime": {
     "end_time": "2025-07-01T07:39:58.571897Z",
     "start_time": "2025-07-01T07:39:58.567728Z"
    }
   },
   "source": [
    "print(f'初始数据:{data}')\n",
    "inputs = data.iloc[:, 0:2] # 取数据的所有行 和前两列\n",
    "print(f'取数据的所有行 和前两列:{inputs}')\n",
    "outputs = data.iloc[:, 2]  # 取数据所有行 和 第二列\n",
    "print(f'取数据所有行 和 第二列:{outputs}')\n",
    "inputs = inputs.fillna(inputs.mean(numeric_only=True)) # 用各列的平均值填充对应列中的空值\n",
    "print(f'填充空值后的输入数据:{inputs}')"
   ],
   "outputs": [
    {
     "name": "stdout",
     "output_type": "stream",
     "text": [
      "初始数据:   NumRooms Alley   Price\n",
      "0       NaN  Pave  127500\n",
      "1       2.0   NaN  106000\n",
      "2       4.0   NaN  178100\n",
      "3       NaN   NaN  140000\n",
      "取数据的所有行 和前两列:   NumRooms Alley\n",
      "0       NaN  Pave\n",
      "1       2.0   NaN\n",
      "2       4.0   NaN\n",
      "3       NaN   NaN\n",
      "取数据所有行 和 第二列:0    127500\n",
      "1    106000\n",
      "2    178100\n",
      "3    140000\n",
      "Name: Price, dtype: int64\n",
      "填充空值后的输入数据:   NumRooms Alley\n",
      "0       3.0  Pave\n",
      "1       2.0   NaN\n",
      "2       4.0   NaN\n",
      "3       3.0   NaN\n"
     ]
    }
   ],
   "execution_count": 9
  },
  {
   "metadata": {
    "ExecuteTime": {
     "end_time": "2025-07-01T09:13:29.531861Z",
     "start_time": "2025-07-01T09:13:29.433603Z"
    }
   },
   "cell_type": "code",
   "source": [
    "inputs = pd.get_dummies(inputs, dummy_na=True)\n",
    "print(inputs)"
   ],
   "id": "f67403d6620f3dee",
   "outputs": [
    {
     "name": "stdout",
     "output_type": "stream",
     "text": [
      "   NumRooms  Alley_Pave  Alley_nan\n",
      "0       3.0        True      False\n",
      "1       2.0       False       True\n",
      "2       4.0       False       True\n",
      "3       3.0       False       True\n"
     ]
    }
   ],
   "execution_count": 11
  },
  {
   "metadata": {
    "ExecuteTime": {
     "end_time": "2025-07-01T09:23:14.519734Z",
     "start_time": "2025-07-01T09:23:12.946991Z"
    }
   },
   "cell_type": "code",
   "source": [
    "import torch\n",
    "\n",
    "X = torch.tensor(inputs.to_numpy(dtype=float))\n",
    "y = torch.tensor(outputs.to_numpy(dtype=float))\n",
    "X, y"
   ],
   "id": "4cabc1b04f945f3b",
   "outputs": [
    {
     "data": {
      "text/plain": [
       "(tensor([[3., 1., 0.],\n",
       "         [2., 0., 1.],\n",
       "         [4., 0., 1.],\n",
       "         [3., 0., 1.]], dtype=torch.float64),\n",
       " tensor([127500., 106000., 178100., 140000.], dtype=torch.float64))"
      ]
     },
     "execution_count": 12,
     "metadata": {},
     "output_type": "execute_result"
    }
   ],
   "execution_count": 12
  }
 ],
 "metadata": {
  "kernelspec": {
   "display_name": "PyCharmMiscProject",
   "language": "python",
   "name": "python3"
  },
  "language_info": {
   "codemirror_mode": {
    "name": "ipython",
    "version": 3
   },
   "file_extension": ".py",
   "mimetype": "text/x-python",
   "name": "python",
   "nbconvert_exporter": "python",
   "pygments_lexer": "ipython3",
   "version": "3.10.18"
  }
 },
 "nbformat": 4,
 "nbformat_minor": 5
}
