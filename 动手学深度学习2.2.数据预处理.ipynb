{
 "cells": [
  {
   "cell_type": "code",
   "id": "initial_id",
   "metadata": {
    "collapsed": true,
    "ExecuteTime": {
     "end_time": "2025-06-30T03:19:36.795179Z",
     "start_time": "2025-06-30T03:19:36.781972Z"
    }
   },
   "source": [
    "import os\n",
    "\n",
    "# 在当前目录创建data文件夹\n",
    "os.makedirs('data', exist_ok=True)\n",
    "# 在data文件夹中创建CSV文件\n",
    "data_file = os.path.join('data', 'house_tiny.csv')\n",
    "print(f'拼接结果: {data_file}')\n",
    "\n",
    "with open(data_file, 'w') as f:\n",
    "    f.write('NumRooms,Alley,Price\\n')  # 列名\n",
    "    f.write('NA,Pave,127500\\n')  # 每行表示一个数据样本\n",
    "    f.write('2,NA,106000\\n')\n",
    "    f.write('4,NA,178100\\n')\n",
    "    f.write('NA,NA,140000\\n')\n"
   ],
   "outputs": [
    {
     "name": "stdout",
     "output_type": "stream",
     "text": [
      "拼接结果: data/house_tiny.csv\n"
     ]
    }
   ],
   "execution_count": 6
  },
  {
   "metadata": {
    "ExecuteTime": {
     "end_time": "2025-06-30T03:34:01.781994Z",
     "start_time": "2025-06-30T03:34:01.765993Z"
    }
   },
   "cell_type": "code",
   "source": [
    "import pandas as pd\n",
    "\n",
    "data = pd.read_csv(data_file)\n",
    "print(data)"
   ],
   "id": "27660856426f4130",
   "outputs": [
    {
     "name": "stdout",
     "output_type": "stream",
     "text": [
      "   NumRooms Alley   Price\n",
      "0       NaN  Pave  127500\n",
      "1       2.0   NaN  106000\n",
      "2       4.0   NaN  178100\n",
      "3       NaN   NaN  140000\n"
     ]
    }
   ],
   "execution_count": 18
  },
  {
   "metadata": {
    "ExecuteTime": {
     "end_time": "2025-06-30T03:37:11.877164Z",
     "start_time": "2025-06-30T03:37:11.872295Z"
    }
   },
   "cell_type": "code",
   "source": [
    "inputs, outputs = data.iloc[:, 0:2], data.iloc[:, 2]\n",
    "# 修复方法：只对数值列计算均值\n",
    "inputs = inputs.fillna(inputs.mean(numeric_only=True))\n",
    "# 字符串列单独处理\n",
    "inputs['Alley'] = inputs['Alley'].fillna('Unknown')print(inputs)"
   ],
   "id": "198f2c5a6266fb3d",
   "outputs": [
    {
     "ename": "SyntaxError",
     "evalue": "invalid syntax (2061614005.py, line 5)",
     "output_type": "error",
     "traceback": [
      "\u001B[0;36m  Cell \u001B[0;32mIn[26], line 5\u001B[0;36m\u001B[0m\n\u001B[0;31m    inputs['Alley'] = inputs['Alley'].fillna('Unknown')print(inputs)\u001B[0m\n\u001B[0m                                                       ^\u001B[0m\n\u001B[0;31mSyntaxError\u001B[0m\u001B[0;31m:\u001B[0m invalid syntax\n"
     ]
    }
   ],
   "execution_count": 26
  }
 ],
 "metadata": {
  "kernelspec": {
   "display_name": "Python 3",
   "language": "python",
   "name": "python3"
  },
  "language_info": {
   "codemirror_mode": {
    "name": "ipython",
    "version": 2
   },
   "file_extension": ".py",
   "mimetype": "text/x-python",
   "name": "python",
   "nbconvert_exporter": "python",
   "pygments_lexer": "ipython2",
   "version": "2.7.6"
  }
 },
 "nbformat": 4,
 "nbformat_minor": 5
}
