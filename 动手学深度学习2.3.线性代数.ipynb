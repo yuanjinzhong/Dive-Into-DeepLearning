{
 "cells": [
  {
   "cell_type": "code",
   "id": "initial_id",
   "metadata": {
    "collapsed": true,
    "ExecuteTime": {
     "end_time": "2025-07-01T09:46:10.230228Z",
     "start_time": "2025-07-01T09:46:10.217202Z"
    }
   },
   "source": [
    "import torch\n",
    "\n",
    "x: torch.Tensor = torch.tensor(3.0) # tensor 代表张量，一个元素的一阶张量 也叫做标量（scalar）\n",
    "y: torch.Tensor = torch.tensor(2.0)\n",
    "print(x.type())\n",
    "print(y.type())\n",
    "x + y, x * y, x / y, x**y"
   ],
   "outputs": [
    {
     "name": "stdout",
     "output_type": "stream",
     "text": [
      "torch.FloatTensor\n",
      "torch.FloatTensor\n"
     ]
    },
    {
     "data": {
      "text/plain": [
       "(tensor(5.), tensor(6.), tensor(1.5000), tensor(9.))"
      ]
     },
     "execution_count": 4,
     "metadata": {},
     "output_type": "execute_result"
    }
   ],
   "execution_count": 4
  },
  {
   "metadata": {
    "ExecuteTime": {
     "end_time": "2025-07-01T11:47:15.456046Z",
     "start_time": "2025-07-01T11:47:15.424990Z"
    }
   },
   "cell_type": "code",
   "source": [
    "# 向量\n",
    "x = torch.arange(4)\n",
    "x"
   ],
   "id": "86092d5470671435",
   "outputs": [
    {
     "data": {
      "text/plain": [
       "tensor([0, 1, 2, 3])"
      ]
     },
     "execution_count": 5,
     "metadata": {},
     "output_type": "execute_result"
    }
   ],
   "execution_count": 5
  },
  {
   "metadata": {
    "ExecuteTime": {
     "end_time": "2025-07-01T11:48:12.424269Z",
     "start_time": "2025-07-01T11:48:12.415813Z"
    }
   },
   "cell_type": "code",
   "source": [
    "# 通过索引访问向量的任一元素\n",
    "x[3]"
   ],
   "id": "c8712d32cd302c8c",
   "outputs": [
    {
     "data": {
      "text/plain": [
       "tensor(3)"
      ]
     },
     "execution_count": 6,
     "metadata": {},
     "output_type": "execute_result"
    }
   ],
   "execution_count": 6
  },
  {
   "metadata": {
    "ExecuteTime": {
     "end_time": "2025-07-01T11:56:44.341835Z",
     "start_time": "2025-07-01T11:56:44.329932Z"
    }
   },
   "cell_type": "code",
   "source": [
    "# 向量的长度\n",
    "len(x)"
   ],
   "id": "feed5c8b3af9cca6",
   "outputs": [
    {
     "data": {
      "text/plain": [
       "4"
      ]
     },
     "execution_count": 7,
     "metadata": {},
     "output_type": "execute_result"
    }
   ],
   "execution_count": 7
  },
  {
   "metadata": {
    "ExecuteTime": {
     "end_time": "2025-07-01T11:57:31.379897Z",
     "start_time": "2025-07-01T11:57:31.373797Z"
    }
   },
   "cell_type": "code",
   "source": [
    "# 向量的形状，也就是长度\n",
    "x.shape"
   ],
   "id": "73d6de54cb63449e",
   "outputs": [
    {
     "data": {
      "text/plain": [
       "torch.Size([4])"
      ]
     },
     "execution_count": 8,
     "metadata": {},
     "output_type": "execute_result"
    }
   ],
   "execution_count": 8
  },
  {
   "metadata": {
    "ExecuteTime": {
     "end_time": "2025-07-01T11:59:14.044813Z",
     "start_time": "2025-07-01T11:59:14.035602Z"
    }
   },
   "cell_type": "code",
   "source": [
    "# 矩阵，也就是二维向量\n",
    "A = torch.arange(20).reshape(5, 4)\n",
    "A"
   ],
   "id": "39fddb6c592ff54f",
   "outputs": [
    {
     "data": {
      "text/plain": [
       "tensor([[ 0,  1,  2,  3],\n",
       "        [ 4,  5,  6,  7],\n",
       "        [ 8,  9, 10, 11],\n",
       "        [12, 13, 14, 15],\n",
       "        [16, 17, 18, 19]])"
      ]
     },
     "execution_count": 10,
     "metadata": {},
     "output_type": "execute_result"
    }
   ],
   "execution_count": 10
  },
  {
   "metadata": {
    "ExecuteTime": {
     "end_time": "2025-07-01T12:11:51.205482Z",
     "start_time": "2025-07-01T12:11:51.142065Z"
    }
   },
   "cell_type": "code",
   "source": [
    "# 矩阵转置\n",
    "A.T"
   ],
   "id": "8c74a31d3f749c69",
   "outputs": [
    {
     "data": {
      "text/plain": [
       "tensor([[ 0,  4,  8, 12, 16],\n",
       "        [ 1,  5,  9, 13, 17],\n",
       "        [ 2,  6, 10, 14, 18],\n",
       "        [ 3,  7, 11, 15, 19]])"
      ]
     },
     "execution_count": 11,
     "metadata": {},
     "output_type": "execute_result"
    }
   ],
   "execution_count": 11
  },
  {
   "metadata": {
    "ExecuteTime": {
     "end_time": "2025-07-01T12:13:35.863848Z",
     "start_time": "2025-07-01T12:13:35.848669Z"
    }
   },
   "cell_type": "code",
   "source": [
    "# 对称矩阵\n",
    "B = torch.tensor([[1, 2, 3], [2, 0, 4], [3, 4, 5]])\n",
    "B"
   ],
   "id": "9eeb31f7b4e31d5c",
   "outputs": [
    {
     "data": {
      "text/plain": [
       "tensor([[1, 2, 3],\n",
       "        [2, 0, 4],\n",
       "        [3, 4, 5]])"
      ]
     },
     "execution_count": 12,
     "metadata": {},
     "output_type": "execute_result"
    }
   ],
   "execution_count": 12
  },
  {
   "metadata": {
    "ExecuteTime": {
     "end_time": "2025-07-01T12:14:36.772175Z",
     "start_time": "2025-07-01T12:14:36.760461Z"
    }
   },
   "cell_type": "code",
   "source": [
    "# 因为B是对称矩阵，所以B的转置矩阵等于它本身\n",
    "B ==B.T"
   ],
   "id": "bb65269b1a8dff2d",
   "outputs": [
    {
     "data": {
      "text/plain": [
       "tensor([[True, True, True],\n",
       "        [True, True, True],\n",
       "        [True, True, True]])"
      ]
     },
     "execution_count": 14,
     "metadata": {},
     "output_type": "execute_result"
    }
   ],
   "execution_count": 14
  },
  {
   "metadata": {
    "ExecuteTime": {
     "end_time": "2025-07-01T12:16:43.692357Z",
     "start_time": "2025-07-01T12:16:43.682963Z"
    }
   },
   "cell_type": "code",
   "source": [
    "# 三阶段张量\n",
    "X = torch.arange(24).reshape(2, 3, 4)\n",
    "X"
   ],
   "id": "30695db92854797e",
   "outputs": [
    {
     "data": {
      "text/plain": [
       "tensor([[[ 0,  1,  2,  3],\n",
       "         [ 4,  5,  6,  7],\n",
       "         [ 8,  9, 10, 11]],\n",
       "\n",
       "        [[12, 13, 14, 15],\n",
       "         [16, 17, 18, 19],\n",
       "         [20, 21, 22, 23]]])"
      ]
     },
     "execution_count": 15,
     "metadata": {},
     "output_type": "execute_result"
    }
   ],
   "execution_count": 15
  },
  {
   "metadata": {
    "ExecuteTime": {
     "end_time": "2025-07-01T12:17:59.674620Z",
     "start_time": "2025-07-01T12:17:59.664005Z"
    }
   },
   "cell_type": "code",
   "source": [
    "#张量的算术\n",
    "A = torch.arange(20, dtype=torch.float32).reshape(5, 4)\n",
    "B = A.clone()  # 通过分配新内存，将A的一个副本分配给B\n",
    "A, A + B"
   ],
   "id": "7297fe2e1a1e5ae4",
   "outputs": [
    {
     "data": {
      "text/plain": [
       "(tensor([[ 0.,  1.,  2.,  3.],\n",
       "         [ 4.,  5.,  6.,  7.],\n",
       "         [ 8.,  9., 10., 11.],\n",
       "         [12., 13., 14., 15.],\n",
       "         [16., 17., 18., 19.]]),\n",
       " tensor([[ 0.,  2.,  4.,  6.],\n",
       "         [ 8., 10., 12., 14.],\n",
       "         [16., 18., 20., 22.],\n",
       "         [24., 26., 28., 30.],\n",
       "         [32., 34., 36., 38.]]))"
      ]
     },
     "execution_count": 16,
     "metadata": {},
     "output_type": "execute_result"
    }
   ],
   "execution_count": 16
  },
  {
   "metadata": {
    "ExecuteTime": {
     "end_time": "2025-07-01T12:18:59.220439Z",
     "start_time": "2025-07-01T12:18:59.208660Z"
    }
   },
   "cell_type": "code",
   "source": [
    "#张量乘法\n",
    "A * B\n"
   ],
   "id": "a7be4525053e5185",
   "outputs": [
    {
     "data": {
      "text/plain": [
       "tensor([[  0.,   1.,   4.,   9.],\n",
       "        [ 16.,  25.,  36.,  49.],\n",
       "        [ 64.,  81., 100., 121.],\n",
       "        [144., 169., 196., 225.],\n",
       "        [256., 289., 324., 361.]])"
      ]
     },
     "execution_count": 17,
     "metadata": {},
     "output_type": "execute_result"
    }
   ],
   "execution_count": 17
  },
  {
   "metadata": {
    "ExecuteTime": {
     "end_time": "2025-07-01T12:19:32.932183Z",
     "start_time": "2025-07-01T12:19:32.922777Z"
    }
   },
   "cell_type": "code",
   "source": [
    "# 张量的加减乘除不会改变张量的形状\n",
    "a = 2\n",
    "X = torch.arange(24).reshape(2, 3, 4)\n",
    "a + X, (a * X).shape"
   ],
   "id": "589b7a09ffed3b30",
   "outputs": [
    {
     "data": {
      "text/plain": [
       "(tensor([[[ 2,  3,  4,  5],\n",
       "          [ 6,  7,  8,  9],\n",
       "          [10, 11, 12, 13]],\n",
       " \n",
       "         [[14, 15, 16, 17],\n",
       "          [18, 19, 20, 21],\n",
       "          [22, 23, 24, 25]]]),\n",
       " torch.Size([2, 3, 4]))"
      ]
     },
     "execution_count": 18,
     "metadata": {},
     "output_type": "execute_result"
    }
   ],
   "execution_count": 18
  },
  {
   "metadata": {
    "ExecuteTime": {
     "end_time": "2025-07-01T12:20:14.652421Z",
     "start_time": "2025-07-01T12:20:14.644433Z"
    }
   },
   "cell_type": "code",
   "source": [
    "# 降维\n",
    "x = torch.arange(4, dtype=torch.float32) # 不指定形状（shape）就是一维张量（向量）\n",
    "x, x.sum()"
   ],
   "id": "5be12836eb7e0ae1",
   "outputs": [
    {
     "data": {
      "text/plain": [
       "(tensor([0., 1., 2., 3.]), tensor(6.))"
      ]
     },
     "execution_count": 19,
     "metadata": {},
     "output_type": "execute_result"
    }
   ],
   "execution_count": 19
  },
  {
   "metadata": {
    "ExecuteTime": {
     "end_time": "2025-07-01T12:21:23.750213Z",
     "start_time": "2025-07-01T12:21:23.744333Z"
    }
   },
   "cell_type": "code",
   "source": [
    "# 任意维度的张量都可以求和\n",
    "A.shape, A.sum()\n"
   ],
   "id": "7ca777dceb7bb7",
   "outputs": [
    {
     "data": {
      "text/plain": [
       "(torch.Size([5, 4]), tensor(190.))"
      ]
     },
     "execution_count": 20,
     "metadata": {},
     "output_type": "execute_result"
    }
   ],
   "execution_count": 20
  },
  {
   "metadata": {
    "ExecuteTime": {
     "end_time": "2025-07-01T12:28:33.181038Z",
     "start_time": "2025-07-01T12:28:33.167462Z"
    }
   },
   "cell_type": "code",
   "source": [
    "A_sum_axis0 = A.sum(axis=0) # 列求和\n",
    "A,A_sum_axis0, A_sum_axis0.shape"
   ],
   "id": "9aba03c8e07d87b6",
   "outputs": [
    {
     "data": {
      "text/plain": [
       "(tensor([[ 0.,  1.,  2.,  3.],\n",
       "         [ 4.,  5.,  6.,  7.],\n",
       "         [ 8.,  9., 10., 11.],\n",
       "         [12., 13., 14., 15.],\n",
       "         [16., 17., 18., 19.]]),\n",
       " tensor([40., 45., 50., 55.]),\n",
       " torch.Size([4]))"
      ]
     },
     "execution_count": 32,
     "metadata": {},
     "output_type": "execute_result"
    }
   ],
   "execution_count": 32
  },
  {
   "metadata": {
    "ExecuteTime": {
     "end_time": "2025-07-01T12:28:11.930456Z",
     "start_time": "2025-07-01T12:28:11.886858Z"
    }
   },
   "cell_type": "code",
   "source": [
    "A_sum_axis1 = A.sum(axis=1) # 行求和\n",
    "A,A_sum_axis1, A_sum_axis1.shape"
   ],
   "id": "36632146ddb03583",
   "outputs": [
    {
     "data": {
      "text/plain": [
       "(tensor([[ 0.,  1.,  2.,  3.],\n",
       "         [ 4.,  5.,  6.,  7.],\n",
       "         [ 8.,  9., 10., 11.],\n",
       "         [12., 13., 14., 15.],\n",
       "         [16., 17., 18., 19.]]),\n",
       " tensor([ 6., 22., 38., 54., 70.]),\n",
       " torch.Size([5]))"
      ]
     },
     "execution_count": 31,
     "metadata": {},
     "output_type": "execute_result"
    }
   ],
   "execution_count": 31
  },
  {
   "metadata": {
    "ExecuteTime": {
     "end_time": "2025-07-01T12:33:41.306797Z",
     "start_time": "2025-07-01T12:33:41.292245Z"
    }
   },
   "cell_type": "code",
   "source": [
    "# 2.3.7. 点积（Dot Product）¶\n",
    "y = torch.ones(4, dtype = torch.float32)\n",
    "x, y, torch.dot(x, y)"
   ],
   "id": "9de8bfe7e558705a",
   "outputs": [
    {
     "data": {
      "text/plain": [
       "(tensor([0., 1., 2., 3.]), tensor([1., 1., 1., 1.]), tensor(6.))"
      ]
     },
     "execution_count": 33,
     "metadata": {},
     "output_type": "execute_result"
    }
   ],
   "execution_count": 33
  },
  {
   "metadata": {
    "ExecuteTime": {
     "end_time": "2025-07-01T12:34:57.333575Z",
     "start_time": "2025-07-01T12:34:57.316696Z"
    }
   },
   "cell_type": "code",
   "source": "A,A.shape, x.shape, torch.mv(A, x)",
   "id": "6e1808741230da7f",
   "outputs": [
    {
     "data": {
      "text/plain": [
       "(tensor([[ 0.,  1.,  2.,  3.],\n",
       "         [ 4.,  5.,  6.,  7.],\n",
       "         [ 8.,  9., 10., 11.],\n",
       "         [12., 13., 14., 15.],\n",
       "         [16., 17., 18., 19.]]),\n",
       " torch.Size([5, 4]),\n",
       " torch.Size([4]),\n",
       " tensor([ 14.,  38.,  62.,  86., 110.]))"
      ]
     },
     "execution_count": 35,
     "metadata": {},
     "output_type": "execute_result"
    }
   ],
   "execution_count": 35
  },
  {
   "metadata": {
    "ExecuteTime": {
     "end_time": "2025-07-01T12:35:58.414281Z",
     "start_time": "2025-07-01T12:35:58.361872Z"
    }
   },
   "cell_type": "code",
   "source": [
    "u = torch.tensor([3.0, -4.0])\n",
    "torch.norm(u)"
   ],
   "id": "ef57595c5861b959",
   "outputs": [
    {
     "data": {
      "text/plain": [
       "tensor(5.)"
      ]
     },
     "execution_count": 36,
     "metadata": {},
     "output_type": "execute_result"
    }
   ],
   "execution_count": 36
  },
  {
   "metadata": {
    "ExecuteTime": {
     "end_time": "2025-07-01T12:36:09.109045Z",
     "start_time": "2025-07-01T12:36:09.098810Z"
    }
   },
   "cell_type": "code",
   "source": "torch.norm(torch.ones((4, 9)))",
   "id": "657ec0d2499045e8",
   "outputs": [
    {
     "data": {
      "text/plain": [
       "tensor(6.)"
      ]
     },
     "execution_count": 37,
     "metadata": {},
     "output_type": "execute_result"
    }
   ],
   "execution_count": 37
  }
 ],
 "metadata": {
  "kernelspec": {
   "display_name": "Python 3",
   "language": "python",
   "name": "python3"
  },
  "language_info": {
   "codemirror_mode": {
    "name": "ipython",
    "version": 2
   },
   "file_extension": ".py",
   "mimetype": "text/x-python",
   "name": "python",
   "nbconvert_exporter": "python",
   "pygments_lexer": "ipython2",
   "version": "2.7.6"
  }
 },
 "nbformat": 4,
 "nbformat_minor": 5
}
